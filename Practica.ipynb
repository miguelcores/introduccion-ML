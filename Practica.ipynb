{
 "cells": [
  {
   "cell_type": "markdown",
   "metadata": {},
   "source": [
    "A continuación se muestra una matriz de expresión genética:"
   ]
  },
  {
   "cell_type": "code",
   "execution_count": 1,
   "metadata": {},
   "outputs": [
    {
     "data": {
      "text/html": [
       "<table>\n",
       "<thead><tr><th scope=col>X</th><th scope=col>X212284_x_at</th><th scope=col>X212869_x_at</th><th scope=col>X213614_x_at</th><th scope=col>X212391_x_at</th><th scope=col>X201257_x_at</th><th scope=col>AFFX.hum_alu_at</th><th scope=col>X206559_x_at</th><th scope=col>X214003_x_at</th><th scope=col>X208755_x_at</th><th scope=col>⋯</th><th scope=col>X214981_at</th><th scope=col>X216660_at</th><th scope=col>X217101_at</th><th scope=col>X218922_s_at</th><th scope=col>X203953_s_at</th><th scope=col>X221755_at</th><th scope=col>X208278_s_at</th><th scope=col>X207162_s_at</th><th scope=col>X206824_at</th><th scope=col>X218840_s_at</th></tr></thead>\n",
       "<tbody>\n",
       "\t<tr><td>Normal.BC0043N</td><td> 9167.03      </td><td> 7380.27      </td><td>8341.82       </td><td> 7944.99      </td><td> 8367.28      </td><td>7884.22       </td><td>6209.89       </td><td>6009.60       </td><td>9017.07       </td><td>⋯             </td><td>13.9187       </td><td>30.9902       </td><td>26.8305       </td><td>30.6226       </td><td>13.6677       </td><td>23.7455       </td><td>29.1401       </td><td>23.8904       </td><td>64.3171       </td><td>25.5825       </td></tr>\n",
       "\t<tr><td>Cancer.BC0043T</td><td>10635.90      </td><td>11010.80      </td><td>9859.02       </td><td>10493.60      </td><td>10805.70      </td><td>8507.10       </td><td>9060.41       </td><td>9426.21       </td><td>8674.11       </td><td>⋯             </td><td>17.2673       </td><td>56.3875       </td><td>16.9442       </td><td>14.5954       </td><td>15.2555       </td><td>19.2764       </td><td>16.4308       </td><td>26.5672       </td><td>53.7115       </td><td>28.7201       </td></tr>\n",
       "\t<tr><td>Normal.BC0051N</td><td> 8015.29      </td><td> 6112.62      </td><td>8287.92       </td><td> 7360.60      </td><td> 7060.93      </td><td>8003.40       </td><td>7140.51       </td><td>6029.11       </td><td>7026.17       </td><td>⋯             </td><td>26.6429       </td><td>29.1446       </td><td>23.8505       </td><td>32.2064       </td><td>15.9346       </td><td>27.4183       </td><td>21.6383       </td><td>21.3962       </td><td>27.9609       </td><td>45.1721       </td></tr>\n",
       "\t<tr><td>Cancer.BC0051T</td><td> 9081.20      </td><td> 8925.35      </td><td>8276.54       </td><td> 9021.02      </td><td> 8622.68      </td><td>8925.17       </td><td>7862.39       </td><td>6847.31       </td><td>9651.01       </td><td>⋯             </td><td>37.5716       </td><td>30.0083       </td><td>20.7826       </td><td>22.1020       </td><td>27.5567       </td><td>26.4899       </td><td>26.3171       </td><td>16.6457       </td><td>41.5037       </td><td>25.8667       </td></tr>\n",
       "\t<tr><td>Normal.BC0057N</td><td> 9006.52      </td><td> 8338.44      </td><td>7069.53       </td><td> 7909.77      </td><td> 7348.80      </td><td>7966.06       </td><td>7120.25       </td><td>7903.76       </td><td>7387.18       </td><td>⋯             </td><td>36.4167       </td><td>29.9436       </td><td>45.3716       </td><td>31.1614       </td><td>31.3397       </td><td>32.0059       </td><td>29.1746       </td><td>21.2647       </td><td>34.7236       </td><td>35.4706       </td></tr>\n",
       "\t<tr><td>Cancer.BC0057T</td><td> 8307.87      </td><td> 7295.69      </td><td>7048.75       </td><td> 7111.87      </td><td> 6372.62      </td><td>8056.31       </td><td>6406.97       </td><td>6256.54       </td><td>7098.11       </td><td>⋯             </td><td>21.3444       </td><td>54.1291       </td><td>37.4840       </td><td>22.2405       </td><td>50.9866       </td><td>26.8458       </td><td>33.2448       </td><td>18.3316       </td><td>24.6310       </td><td>24.8679       </td></tr>\n",
       "</tbody>\n",
       "</table>\n"
      ],
      "text/latex": [
       "\\begin{tabular}{r|llllllllllllllllllllllllllllllllllllllllllllllllllllllllllllllllllllllllllllllllllllllllllllllllllllllllllllllllllllllllllllllllllllllllllllllllllllllllllllllllllllllllllllllllllllllllllllllllllllllllllllllllllllllllllllllllllllllllllllllllllllllllllllllllllllllllllllllllllllllllllllllllllllllllllllllllllllllllllllllllllllllllllllllllllllllllllllllllllllllllllllllllllllllllllllllllllllllllllllllllllllllllllllllllllllllllllllllllllllllllllllllllllllllllllllllllllllllllllllllllll}\n",
       " X & X212284\\_x\\_at & X212869\\_x\\_at & X213614\\_x\\_at & X212391\\_x\\_at & X201257\\_x\\_at & AFFX.hum\\_alu\\_at & X206559\\_x\\_at & X214003\\_x\\_at & X208755\\_x\\_at & ⋯ & X214981\\_at & X216660\\_at & X217101\\_at & X218922\\_s\\_at & X203953\\_s\\_at & X221755\\_at & X208278\\_s\\_at & X207162\\_s\\_at & X206824\\_at & X218840\\_s\\_at\\\\\n",
       "\\hline\n",
       "\t Normal.BC0043N &  9167.03       &  7380.27       & 8341.82        &  7944.99       &  8367.28       & 7884.22        & 6209.89        & 6009.60        & 9017.07        & ⋯              & 13.9187        & 30.9902        & 26.8305        & 30.6226        & 13.6677        & 23.7455        & 29.1401        & 23.8904        & 64.3171        & 25.5825       \\\\\n",
       "\t Cancer.BC0043T & 10635.90       & 11010.80       & 9859.02        & 10493.60       & 10805.70       & 8507.10        & 9060.41        & 9426.21        & 8674.11        & ⋯              & 17.2673        & 56.3875        & 16.9442        & 14.5954        & 15.2555        & 19.2764        & 16.4308        & 26.5672        & 53.7115        & 28.7201       \\\\\n",
       "\t Normal.BC0051N &  8015.29       &  6112.62       & 8287.92        &  7360.60       &  7060.93       & 8003.40        & 7140.51        & 6029.11        & 7026.17        & ⋯              & 26.6429        & 29.1446        & 23.8505        & 32.2064        & 15.9346        & 27.4183        & 21.6383        & 21.3962        & 27.9609        & 45.1721       \\\\\n",
       "\t Cancer.BC0051T &  9081.20       &  8925.35       & 8276.54        &  9021.02       &  8622.68       & 8925.17        & 7862.39        & 6847.31        & 9651.01        & ⋯              & 37.5716        & 30.0083        & 20.7826        & 22.1020        & 27.5567        & 26.4899        & 26.3171        & 16.6457        & 41.5037        & 25.8667       \\\\\n",
       "\t Normal.BC0057N &  9006.52       &  8338.44       & 7069.53        &  7909.77       &  7348.80       & 7966.06        & 7120.25        & 7903.76        & 7387.18        & ⋯              & 36.4167        & 29.9436        & 45.3716        & 31.1614        & 31.3397        & 32.0059        & 29.1746        & 21.2647        & 34.7236        & 35.4706       \\\\\n",
       "\t Cancer.BC0057T &  8307.87       &  7295.69       & 7048.75        &  7111.87       &  6372.62       & 8056.31        & 6406.97        & 6256.54        & 7098.11        & ⋯              & 21.3444        & 54.1291        & 37.4840        & 22.2405        & 50.9866        & 26.8458        & 33.2448        & 18.3316        & 24.6310        & 24.8679       \\\\\n",
       "\\end{tabular}\n"
      ],
      "text/markdown": [
       "\n",
       "X | X212284_x_at | X212869_x_at | X213614_x_at | X212391_x_at | X201257_x_at | AFFX.hum_alu_at | X206559_x_at | X214003_x_at | X208755_x_at | ⋯ | X214981_at | X216660_at | X217101_at | X218922_s_at | X203953_s_at | X221755_at | X208278_s_at | X207162_s_at | X206824_at | X218840_s_at | \n",
       "|---|---|---|---|---|---|\n",
       "| Normal.BC0043N |  9167.03       |  7380.27       | 8341.82        |  7944.99       |  8367.28       | 7884.22        | 6209.89        | 6009.60        | 9017.07        | ⋯              | 13.9187        | 30.9902        | 26.8305        | 30.6226        | 13.6677        | 23.7455        | 29.1401        | 23.8904        | 64.3171        | 25.5825        | \n",
       "| Cancer.BC0043T | 10635.90       | 11010.80       | 9859.02        | 10493.60       | 10805.70       | 8507.10        | 9060.41        | 9426.21        | 8674.11        | ⋯              | 17.2673        | 56.3875        | 16.9442        | 14.5954        | 15.2555        | 19.2764        | 16.4308        | 26.5672        | 53.7115        | 28.7201        | \n",
       "| Normal.BC0051N |  8015.29       |  6112.62       | 8287.92        |  7360.60       |  7060.93       | 8003.40        | 7140.51        | 6029.11        | 7026.17        | ⋯              | 26.6429        | 29.1446        | 23.8505        | 32.2064        | 15.9346        | 27.4183        | 21.6383        | 21.3962        | 27.9609        | 45.1721        | \n",
       "| Cancer.BC0051T |  9081.20       |  8925.35       | 8276.54        |  9021.02       |  8622.68       | 8925.17        | 7862.39        | 6847.31        | 9651.01        | ⋯              | 37.5716        | 30.0083        | 20.7826        | 22.1020        | 27.5567        | 26.4899        | 26.3171        | 16.6457        | 41.5037        | 25.8667        | \n",
       "| Normal.BC0057N |  9006.52       |  8338.44       | 7069.53        |  7909.77       |  7348.80       | 7966.06        | 7120.25        | 7903.76        | 7387.18        | ⋯              | 36.4167        | 29.9436        | 45.3716        | 31.1614        | 31.3397        | 32.0059        | 29.1746        | 21.2647        | 34.7236        | 35.4706        | \n",
       "| Cancer.BC0057T |  8307.87       |  7295.69       | 7048.75        |  7111.87       |  6372.62       | 8056.31        | 6406.97        | 6256.54        | 7098.11        | ⋯              | 21.3444        | 54.1291        | 37.4840        | 22.2405        | 50.9866        | 26.8458        | 33.2448        | 18.3316        | 24.6310        | 24.8679        | \n",
       "\n",
       "\n"
      ],
      "text/plain": [
       "  X              X212284_x_at X212869_x_at X213614_x_at X212391_x_at\n",
       "1 Normal.BC0043N  9167.03      7380.27     8341.82       7944.99    \n",
       "2 Cancer.BC0043T 10635.90     11010.80     9859.02      10493.60    \n",
       "3 Normal.BC0051N  8015.29      6112.62     8287.92       7360.60    \n",
       "4 Cancer.BC0051T  9081.20      8925.35     8276.54       9021.02    \n",
       "5 Normal.BC0057N  9006.52      8338.44     7069.53       7909.77    \n",
       "6 Cancer.BC0057T  8307.87      7295.69     7048.75       7111.87    \n",
       "  X201257_x_at AFFX.hum_alu_at X206559_x_at X214003_x_at X208755_x_at ⋯\n",
       "1  8367.28     7884.22         6209.89      6009.60      9017.07      ⋯\n",
       "2 10805.70     8507.10         9060.41      9426.21      8674.11      ⋯\n",
       "3  7060.93     8003.40         7140.51      6029.11      7026.17      ⋯\n",
       "4  8622.68     8925.17         7862.39      6847.31      9651.01      ⋯\n",
       "5  7348.80     7966.06         7120.25      7903.76      7387.18      ⋯\n",
       "6  6372.62     8056.31         6406.97      6256.54      7098.11      ⋯\n",
       "  X214981_at X216660_at X217101_at X218922_s_at X203953_s_at X221755_at\n",
       "1 13.9187    30.9902    26.8305    30.6226      13.6677      23.7455   \n",
       "2 17.2673    56.3875    16.9442    14.5954      15.2555      19.2764   \n",
       "3 26.6429    29.1446    23.8505    32.2064      15.9346      27.4183   \n",
       "4 37.5716    30.0083    20.7826    22.1020      27.5567      26.4899   \n",
       "5 36.4167    29.9436    45.3716    31.1614      31.3397      32.0059   \n",
       "6 21.3444    54.1291    37.4840    22.2405      50.9866      26.8458   \n",
       "  X208278_s_at X207162_s_at X206824_at X218840_s_at\n",
       "1 29.1401      23.8904      64.3171    25.5825     \n",
       "2 16.4308      26.5672      53.7115    28.7201     \n",
       "3 21.6383      21.3962      27.9609    45.1721     \n",
       "4 26.3171      16.6457      41.5037    25.8667     \n",
       "5 29.1746      21.2647      34.7236    35.4706     \n",
       "6 33.2448      18.3316      24.6310    24.8679     "
      ]
     },
     "metadata": {},
     "output_type": "display_data"
    }
   ],
   "source": [
    "genexp<-read.csv(\"practica/GEMatrixFiltered.csv\")\n",
    "head(genexp)"
   ]
  },
  {
   "cell_type": "code",
   "execution_count": 7,
   "metadata": {},
   "outputs": [
    {
     "data": {
      "text/html": [
       "482"
      ],
      "text/latex": [
       "482"
      ],
      "text/markdown": [
       "482"
      ],
      "text/plain": [
       "[1] 482"
      ]
     },
     "metadata": {},
     "output_type": "display_data"
    },
    {
     "data": {
      "text/html": [
       "86"
      ],
      "text/latex": [
       "86"
      ],
      "text/markdown": [
       "86"
      ],
      "text/plain": [
       "[1] 86"
      ]
     },
     "metadata": {},
     "output_type": "display_data"
    }
   ],
   "source": [
    "ncol(genexp)\n",
    "nrow(genexp)\n"
   ]
  },
  {
   "cell_type": "markdown",
   "metadata": {},
   "source": [
    "### Limpieza de datos:\n",
    "\n",
    "* Normalizar\n",
    "* ¿Existen outliers? Tratamiento de Outliers"
   ]
  },
  {
   "cell_type": "markdown",
   "metadata": {},
   "source": [
    "### Parte 1\n",
    "Realizar un modelo de regresión logistica que sea capaz de, dada la expresión genética de 482 genes realice una predicción de si el tejido es canceroso o no:\n",
    "* Pintar curva ROC\n",
    "* Para un umbral de 0 calcular:\n",
    " * Precisión\n",
    " * F0.5\n",
    " * Exactitud\n",
    " * Exhaustividad\n",
    " * Matriz de confusión\n",
    " "
   ]
  },
  {
   "cell_type": "code",
   "execution_count": null,
   "metadata": {},
   "outputs": [],
   "source": []
  },
  {
   "cell_type": "markdown",
   "metadata": {},
   "source": [
    "### Parte 2\n",
    "\n",
    "Realizar clusterización por k-means y uno basado en áboles (dendrograma). ¿Cual sería el número de clusters óptimo?  ¿Puedes identificar algún cluster interesante?"
   ]
  },
  {
   "cell_type": "code",
   "execution_count": null,
   "metadata": {},
   "outputs": [],
   "source": []
  },
  {
   "cell_type": "markdown",
   "metadata": {},
   "source": [
    "### Parte 3\n",
    "\n",
    "Realizar un PCA, quedarse con los dos valores más representativos. Pintarlo en una nube de puntos donde los tejidos normales tendrán un color y los tejidos con cancer otro.\n",
    "\n",
    "A partir de esta representación simplificada (con solo 2 valores más significativos) crear un modelo de regresión logística. Compara la curva ROC de este nuevo modelo con el de la *Parte 1*"
   ]
  }
 ],
 "metadata": {
  "kernelspec": {
   "display_name": "R",
   "language": "R",
   "name": "ir"
  },
  "language_info": {
   "codemirror_mode": "r",
   "file_extension": ".r",
   "mimetype": "text/x-r-source",
   "name": "R",
   "pygments_lexer": "r",
   "version": "3.2.3"
  }
 },
 "nbformat": 4,
 "nbformat_minor": 2
}
